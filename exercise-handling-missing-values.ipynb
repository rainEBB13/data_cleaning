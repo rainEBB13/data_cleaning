{
 "cells": [
  {
   "cell_type": "markdown",
   "id": "c80abe0b",
   "metadata": {
    "papermill": {
     "duration": 0.005358,
     "end_time": "2025-07-24T11:11:06.607425",
     "exception": false,
     "start_time": "2025-07-24T11:11:06.602067",
     "status": "completed"
    },
    "tags": []
   },
   "source": [
    "**This notebook is an exercise in the [Data Cleaning](https://www.kaggle.com/learn/data-cleaning) course.  You can reference the tutorial at [this link](https://www.kaggle.com/alexisbcook/handling-missing-values).**\n",
    "\n",
    "---\n"
   ]
  },
  {
   "cell_type": "markdown",
   "id": "7b366417",
   "metadata": {
    "papermill": {
     "duration": 0.003963,
     "end_time": "2025-07-24T11:11:06.615934",
     "exception": false,
     "start_time": "2025-07-24T11:11:06.611971",
     "status": "completed"
    },
    "tags": []
   },
   "source": [
    "In this exercise, you'll apply what you learned in the **Handling missing values** tutorial.\n",
    "\n",
    "# Setup\n",
    "\n",
    "The questions below will give you feedback on your work. Run the following cell to set up the feedback system."
   ]
  },
  {
   "cell_type": "code",
   "execution_count": 1,
   "id": "aadaa802",
   "metadata": {
    "execution": {
     "iopub.execute_input": "2025-07-24T11:11:06.625499Z",
     "iopub.status.busy": "2025-07-24T11:11:06.625163Z",
     "iopub.status.idle": "2025-07-24T11:11:14.526786Z",
     "shell.execute_reply": "2025-07-24T11:11:14.525907Z"
    },
    "papermill": {
     "duration": 7.908532,
     "end_time": "2025-07-24T11:11:14.528652",
     "exception": false,
     "start_time": "2025-07-24T11:11:06.620120",
     "status": "completed"
    },
    "tags": []
   },
   "outputs": [
    {
     "name": "stderr",
     "output_type": "stream",
     "text": [
      "/usr/local/lib/python3.11/dist-packages/learntools/data_cleaning/ex1.py:6: DtypeWarning: Columns (22,32) have mixed types. Specify dtype option on import or set low_memory=False.\n",
      "  sf_permits = pd.read_csv(\"../input/building-permit-applications-data/Building_Permits.csv\")\n",
      "/tmp/ipykernel_13/3419995878.py:3: DeprecationWarning: `product` is deprecated as of NumPy 1.25.0, and will be removed in NumPy 2.0. Please use `prod` instead.\n",
      "  from learntools.data_cleaning.ex1 import *\n",
      "/usr/local/lib/python3.11/dist-packages/learntools/data_cleaning/ex1.py:69: FutureWarning: DataFrame.fillna with 'method' is deprecated and will raise in a future version. Use obj.ffill() or obj.bfill() instead.\n",
      "  _expected = sf_permits.fillna(method='bfill', axis=0).fillna(0)\n"
     ]
    },
    {
     "name": "stdout",
     "output_type": "stream",
     "text": [
      "Setup Complete\n"
     ]
    }
   ],
   "source": [
    "from learntools.core import binder\n",
    "binder.bind(globals())\n",
    "from learntools.data_cleaning.ex1 import *\n",
    "print(\"Setup Complete\")"
   ]
  },
  {
   "cell_type": "markdown",
   "id": "23c216e3",
   "metadata": {
    "papermill": {
     "duration": 0.00686,
     "end_time": "2025-07-24T11:11:14.543826",
     "exception": false,
     "start_time": "2025-07-24T11:11:14.536966",
     "status": "completed"
    },
    "tags": []
   },
   "source": [
    "# 1) Take a first look at the data\n",
    "\n",
    "Run the next code cell to load in the libraries and dataset you'll use to complete the exercise."
   ]
  },
  {
   "cell_type": "code",
   "execution_count": 2,
   "id": "6229a6f8",
   "metadata": {
    "execution": {
     "iopub.execute_input": "2025-07-24T11:11:14.553893Z",
     "iopub.status.busy": "2025-07-24T11:11:14.553597Z",
     "iopub.status.idle": "2025-07-24T11:11:16.472699Z",
     "shell.execute_reply": "2025-07-24T11:11:16.471937Z"
    },
    "papermill": {
     "duration": 1.926063,
     "end_time": "2025-07-24T11:11:16.474311",
     "exception": false,
     "start_time": "2025-07-24T11:11:14.548248",
     "status": "completed"
    },
    "tags": []
   },
   "outputs": [
    {
     "name": "stderr",
     "output_type": "stream",
     "text": [
      "/tmp/ipykernel_13/3534875831.py:6: DtypeWarning: Columns (22,32) have mixed types. Specify dtype option on import or set low_memory=False.\n",
      "  sf_permits = pd.read_csv(\"../input/building-permit-applications-data/Building_Permits.csv\")\n"
     ]
    }
   ],
   "source": [
    "# modules we'll use\n",
    "import pandas as pd\n",
    "import numpy as np\n",
    "\n",
    "# read in all our data\n",
    "sf_permits = pd.read_csv(\"../input/building-permit-applications-data/Building_Permits.csv\")\n",
    "\n",
    "# set seed for reproducibility\n",
    "np.random.seed(0) "
   ]
  },
  {
   "cell_type": "markdown",
   "id": "1d0eb2cf",
   "metadata": {
    "papermill": {
     "duration": 0.004289,
     "end_time": "2025-07-24T11:11:16.483332",
     "exception": false,
     "start_time": "2025-07-24T11:11:16.479043",
     "status": "completed"
    },
    "tags": []
   },
   "source": [
    "Use the code cell below to print the first five rows of the `sf_permits` DataFrame."
   ]
  },
  {
   "cell_type": "code",
   "execution_count": 3,
   "id": "24b82894",
   "metadata": {
    "execution": {
     "iopub.execute_input": "2025-07-24T11:11:16.493511Z",
     "iopub.status.busy": "2025-07-24T11:11:16.493174Z",
     "iopub.status.idle": "2025-07-24T11:11:16.530953Z",
     "shell.execute_reply": "2025-07-24T11:11:16.530060Z"
    },
    "papermill": {
     "duration": 0.044781,
     "end_time": "2025-07-24T11:11:16.532574",
     "exception": false,
     "start_time": "2025-07-24T11:11:16.487793",
     "status": "completed"
    },
    "tags": []
   },
   "outputs": [
    {
     "name": "stderr",
     "output_type": "stream",
     "text": [
      "/usr/local/lib/python3.11/dist-packages/pandas/io/formats/format.py:1458: RuntimeWarning: invalid value encountered in greater\n",
      "  has_large_values = (abs_vals > 1e6).any()\n",
      "/usr/local/lib/python3.11/dist-packages/pandas/io/formats/format.py:1459: RuntimeWarning: invalid value encountered in less\n",
      "  has_small_values = ((abs_vals < 10 ** (-self.digits)) & (abs_vals > 0)).any()\n",
      "/usr/local/lib/python3.11/dist-packages/pandas/io/formats/format.py:1459: RuntimeWarning: invalid value encountered in greater\n",
      "  has_small_values = ((abs_vals < 10 ** (-self.digits)) & (abs_vals > 0)).any()\n",
      "/usr/local/lib/python3.11/dist-packages/pandas/io/formats/format.py:1458: RuntimeWarning: invalid value encountered in greater\n",
      "  has_large_values = (abs_vals > 1e6).any()\n",
      "/usr/local/lib/python3.11/dist-packages/pandas/io/formats/format.py:1459: RuntimeWarning: invalid value encountered in less\n",
      "  has_small_values = ((abs_vals < 10 ** (-self.digits)) & (abs_vals > 0)).any()\n",
      "/usr/local/lib/python3.11/dist-packages/pandas/io/formats/format.py:1459: RuntimeWarning: invalid value encountered in greater\n",
      "  has_small_values = ((abs_vals < 10 ** (-self.digits)) & (abs_vals > 0)).any()\n"
     ]
    },
    {
     "data": {
      "text/html": [
       "<div>\n",
       "<style scoped>\n",
       "    .dataframe tbody tr th:only-of-type {\n",
       "        vertical-align: middle;\n",
       "    }\n",
       "\n",
       "    .dataframe tbody tr th {\n",
       "        vertical-align: top;\n",
       "    }\n",
       "\n",
       "    .dataframe thead th {\n",
       "        text-align: right;\n",
       "    }\n",
       "</style>\n",
       "<table border=\"1\" class=\"dataframe\">\n",
       "  <thead>\n",
       "    <tr style=\"text-align: right;\">\n",
       "      <th></th>\n",
       "      <th>Permit Number</th>\n",
       "      <th>Permit Type</th>\n",
       "      <th>Permit Type Definition</th>\n",
       "      <th>Permit Creation Date</th>\n",
       "      <th>Block</th>\n",
       "      <th>Lot</th>\n",
       "      <th>Street Number</th>\n",
       "      <th>Street Number Suffix</th>\n",
       "      <th>Street Name</th>\n",
       "      <th>Street Suffix</th>\n",
       "      <th>...</th>\n",
       "      <th>Existing Construction Type</th>\n",
       "      <th>Existing Construction Type Description</th>\n",
       "      <th>Proposed Construction Type</th>\n",
       "      <th>Proposed Construction Type Description</th>\n",
       "      <th>Site Permit</th>\n",
       "      <th>Supervisor District</th>\n",
       "      <th>Neighborhoods - Analysis Boundaries</th>\n",
       "      <th>Zipcode</th>\n",
       "      <th>Location</th>\n",
       "      <th>Record ID</th>\n",
       "    </tr>\n",
       "  </thead>\n",
       "  <tbody>\n",
       "    <tr>\n",
       "      <th>0</th>\n",
       "      <td>201505065519</td>\n",
       "      <td>4</td>\n",
       "      <td>sign - erect</td>\n",
       "      <td>05/06/2015</td>\n",
       "      <td>0326</td>\n",
       "      <td>023</td>\n",
       "      <td>140</td>\n",
       "      <td>NaN</td>\n",
       "      <td>Ellis</td>\n",
       "      <td>St</td>\n",
       "      <td>...</td>\n",
       "      <td>3.0</td>\n",
       "      <td>constr type 3</td>\n",
       "      <td>NaN</td>\n",
       "      <td>NaN</td>\n",
       "      <td>NaN</td>\n",
       "      <td>3.0</td>\n",
       "      <td>Tenderloin</td>\n",
       "      <td>94102.0</td>\n",
       "      <td>(37.785719256680785, -122.40852313194863)</td>\n",
       "      <td>1380611233945</td>\n",
       "    </tr>\n",
       "    <tr>\n",
       "      <th>1</th>\n",
       "      <td>201604195146</td>\n",
       "      <td>4</td>\n",
       "      <td>sign - erect</td>\n",
       "      <td>04/19/2016</td>\n",
       "      <td>0306</td>\n",
       "      <td>007</td>\n",
       "      <td>440</td>\n",
       "      <td>NaN</td>\n",
       "      <td>Geary</td>\n",
       "      <td>St</td>\n",
       "      <td>...</td>\n",
       "      <td>3.0</td>\n",
       "      <td>constr type 3</td>\n",
       "      <td>NaN</td>\n",
       "      <td>NaN</td>\n",
       "      <td>NaN</td>\n",
       "      <td>3.0</td>\n",
       "      <td>Tenderloin</td>\n",
       "      <td>94102.0</td>\n",
       "      <td>(37.78733980600732, -122.41063199757738)</td>\n",
       "      <td>1420164406718</td>\n",
       "    </tr>\n",
       "    <tr>\n",
       "      <th>2</th>\n",
       "      <td>201605278609</td>\n",
       "      <td>3</td>\n",
       "      <td>additions alterations or repairs</td>\n",
       "      <td>05/27/2016</td>\n",
       "      <td>0595</td>\n",
       "      <td>203</td>\n",
       "      <td>1647</td>\n",
       "      <td>NaN</td>\n",
       "      <td>Pacific</td>\n",
       "      <td>Av</td>\n",
       "      <td>...</td>\n",
       "      <td>1.0</td>\n",
       "      <td>constr type 1</td>\n",
       "      <td>1.0</td>\n",
       "      <td>constr type 1</td>\n",
       "      <td>NaN</td>\n",
       "      <td>3.0</td>\n",
       "      <td>Russian Hill</td>\n",
       "      <td>94109.0</td>\n",
       "      <td>(37.7946573324287, -122.42232562979227)</td>\n",
       "      <td>1424856504716</td>\n",
       "    </tr>\n",
       "    <tr>\n",
       "      <th>3</th>\n",
       "      <td>201611072166</td>\n",
       "      <td>8</td>\n",
       "      <td>otc alterations permit</td>\n",
       "      <td>11/07/2016</td>\n",
       "      <td>0156</td>\n",
       "      <td>011</td>\n",
       "      <td>1230</td>\n",
       "      <td>NaN</td>\n",
       "      <td>Pacific</td>\n",
       "      <td>Av</td>\n",
       "      <td>...</td>\n",
       "      <td>5.0</td>\n",
       "      <td>wood frame (5)</td>\n",
       "      <td>5.0</td>\n",
       "      <td>wood frame (5)</td>\n",
       "      <td>NaN</td>\n",
       "      <td>3.0</td>\n",
       "      <td>Nob Hill</td>\n",
       "      <td>94109.0</td>\n",
       "      <td>(37.79595867909168, -122.41557405519474)</td>\n",
       "      <td>1443574295566</td>\n",
       "    </tr>\n",
       "    <tr>\n",
       "      <th>4</th>\n",
       "      <td>201611283529</td>\n",
       "      <td>6</td>\n",
       "      <td>demolitions</td>\n",
       "      <td>11/28/2016</td>\n",
       "      <td>0342</td>\n",
       "      <td>001</td>\n",
       "      <td>950</td>\n",
       "      <td>NaN</td>\n",
       "      <td>Market</td>\n",
       "      <td>St</td>\n",
       "      <td>...</td>\n",
       "      <td>3.0</td>\n",
       "      <td>constr type 3</td>\n",
       "      <td>NaN</td>\n",
       "      <td>NaN</td>\n",
       "      <td>NaN</td>\n",
       "      <td>6.0</td>\n",
       "      <td>Tenderloin</td>\n",
       "      <td>94102.0</td>\n",
       "      <td>(37.78315261897309, -122.40950883997789)</td>\n",
       "      <td>144548169992</td>\n",
       "    </tr>\n",
       "    <tr>\n",
       "      <th>5</th>\n",
       "      <td>201706149344</td>\n",
       "      <td>8</td>\n",
       "      <td>otc alterations permit</td>\n",
       "      <td>06/14/2017</td>\n",
       "      <td>4105</td>\n",
       "      <td>009</td>\n",
       "      <td>800</td>\n",
       "      <td>NaN</td>\n",
       "      <td>Indiana</td>\n",
       "      <td>St</td>\n",
       "      <td>...</td>\n",
       "      <td>1.0</td>\n",
       "      <td>constr type 1</td>\n",
       "      <td>1.0</td>\n",
       "      <td>constr type 1</td>\n",
       "      <td>NaN</td>\n",
       "      <td>10.0</td>\n",
       "      <td>Potrero Hill</td>\n",
       "      <td>94107.0</td>\n",
       "      <td>(37.75922331346539, -122.39170402628598)</td>\n",
       "      <td>1466911170855</td>\n",
       "    </tr>\n",
       "    <tr>\n",
       "      <th>6</th>\n",
       "      <td>201706300814</td>\n",
       "      <td>8</td>\n",
       "      <td>otc alterations permit</td>\n",
       "      <td>06/30/2017</td>\n",
       "      <td>1739</td>\n",
       "      <td>020</td>\n",
       "      <td>1291</td>\n",
       "      <td>NaN</td>\n",
       "      <td>11th</td>\n",
       "      <td>Av</td>\n",
       "      <td>...</td>\n",
       "      <td>5.0</td>\n",
       "      <td>wood frame (5)</td>\n",
       "      <td>5.0</td>\n",
       "      <td>wood frame (5)</td>\n",
       "      <td>NaN</td>\n",
       "      <td>5.0</td>\n",
       "      <td>Inner Sunset</td>\n",
       "      <td>94122.0</td>\n",
       "      <td>(37.764145640138565, -122.46875112470363)</td>\n",
       "      <td>1468970403692</td>\n",
       "    </tr>\n",
       "    <tr>\n",
       "      <th>7</th>\n",
       "      <td>M803667</td>\n",
       "      <td>8</td>\n",
       "      <td>otc alterations permit</td>\n",
       "      <td>06/30/2017</td>\n",
       "      <td>4789</td>\n",
       "      <td>014</td>\n",
       "      <td>1465</td>\n",
       "      <td>NaN</td>\n",
       "      <td>Revere</td>\n",
       "      <td>Av</td>\n",
       "      <td>...</td>\n",
       "      <td>NaN</td>\n",
       "      <td>NaN</td>\n",
       "      <td>NaN</td>\n",
       "      <td>NaN</td>\n",
       "      <td>NaN</td>\n",
       "      <td>10.0</td>\n",
       "      <td>Bayview Hunters Point</td>\n",
       "      <td>94124.0</td>\n",
       "      <td>(37.73005099023611, -122.38784938916618)</td>\n",
       "      <td>1469035175050</td>\n",
       "    </tr>\n",
       "    <tr>\n",
       "      <th>8</th>\n",
       "      <td>M804227</td>\n",
       "      <td>8</td>\n",
       "      <td>otc alterations permit</td>\n",
       "      <td>07/05/2017</td>\n",
       "      <td>1212</td>\n",
       "      <td>054</td>\n",
       "      <td>2094</td>\n",
       "      <td>NaN</td>\n",
       "      <td>Fell</td>\n",
       "      <td>St</td>\n",
       "      <td>...</td>\n",
       "      <td>NaN</td>\n",
       "      <td>NaN</td>\n",
       "      <td>NaN</td>\n",
       "      <td>NaN</td>\n",
       "      <td>NaN</td>\n",
       "      <td>5.0</td>\n",
       "      <td>Lone Mountain/USF</td>\n",
       "      <td>94117.0</td>\n",
       "      <td>(37.772393498502595, -122.45231466824669)</td>\n",
       "      <td>1469198253772</td>\n",
       "    </tr>\n",
       "    <tr>\n",
       "      <th>9</th>\n",
       "      <td>M804767</td>\n",
       "      <td>8</td>\n",
       "      <td>otc alterations permit</td>\n",
       "      <td>07/06/2017</td>\n",
       "      <td>1259</td>\n",
       "      <td>016</td>\n",
       "      <td>89</td>\n",
       "      <td>NaN</td>\n",
       "      <td>Alpine</td>\n",
       "      <td>Tr</td>\n",
       "      <td>...</td>\n",
       "      <td>NaN</td>\n",
       "      <td>NaN</td>\n",
       "      <td>NaN</td>\n",
       "      <td>NaN</td>\n",
       "      <td>NaN</td>\n",
       "      <td>8.0</td>\n",
       "      <td>Haight Ashbury</td>\n",
       "      <td>94117.0</td>\n",
       "      <td>(37.7691724293766, -122.43734859051908)</td>\n",
       "      <td>146932394171</td>\n",
       "    </tr>\n",
       "  </tbody>\n",
       "</table>\n",
       "<p>10 rows × 43 columns</p>\n",
       "</div>"
      ],
      "text/plain": [
       "  Permit Number  Permit Type            Permit Type Definition  \\\n",
       "0  201505065519            4                      sign - erect   \n",
       "1  201604195146            4                      sign - erect   \n",
       "2  201605278609            3  additions alterations or repairs   \n",
       "3  201611072166            8            otc alterations permit   \n",
       "4  201611283529            6                       demolitions   \n",
       "5  201706149344            8            otc alterations permit   \n",
       "6  201706300814            8            otc alterations permit   \n",
       "7       M803667            8            otc alterations permit   \n",
       "8       M804227            8            otc alterations permit   \n",
       "9       M804767            8            otc alterations permit   \n",
       "\n",
       "  Permit Creation Date Block  Lot  Street Number Street Number Suffix  \\\n",
       "0           05/06/2015  0326  023            140                  NaN   \n",
       "1           04/19/2016  0306  007            440                  NaN   \n",
       "2           05/27/2016  0595  203           1647                  NaN   \n",
       "3           11/07/2016  0156  011           1230                  NaN   \n",
       "4           11/28/2016  0342  001            950                  NaN   \n",
       "5           06/14/2017  4105  009            800                  NaN   \n",
       "6           06/30/2017  1739  020           1291                  NaN   \n",
       "7           06/30/2017  4789  014           1465                  NaN   \n",
       "8           07/05/2017  1212  054           2094                  NaN   \n",
       "9           07/06/2017  1259  016             89                  NaN   \n",
       "\n",
       "  Street Name Street Suffix  ...  Existing Construction Type  \\\n",
       "0       Ellis            St  ...                         3.0   \n",
       "1       Geary            St  ...                         3.0   \n",
       "2     Pacific            Av  ...                         1.0   \n",
       "3     Pacific            Av  ...                         5.0   \n",
       "4      Market            St  ...                         3.0   \n",
       "5     Indiana            St  ...                         1.0   \n",
       "6        11th            Av  ...                         5.0   \n",
       "7      Revere            Av  ...                         NaN   \n",
       "8        Fell            St  ...                         NaN   \n",
       "9      Alpine            Tr  ...                         NaN   \n",
       "\n",
       "  Existing Construction Type Description Proposed Construction Type  \\\n",
       "0                          constr type 3                        NaN   \n",
       "1                          constr type 3                        NaN   \n",
       "2                          constr type 1                        1.0   \n",
       "3                         wood frame (5)                        5.0   \n",
       "4                          constr type 3                        NaN   \n",
       "5                          constr type 1                        1.0   \n",
       "6                         wood frame (5)                        5.0   \n",
       "7                                    NaN                        NaN   \n",
       "8                                    NaN                        NaN   \n",
       "9                                    NaN                        NaN   \n",
       "\n",
       "  Proposed Construction Type Description Site Permit Supervisor District  \\\n",
       "0                                    NaN         NaN                 3.0   \n",
       "1                                    NaN         NaN                 3.0   \n",
       "2                          constr type 1         NaN                 3.0   \n",
       "3                         wood frame (5)         NaN                 3.0   \n",
       "4                                    NaN         NaN                 6.0   \n",
       "5                          constr type 1         NaN                10.0   \n",
       "6                         wood frame (5)         NaN                 5.0   \n",
       "7                                    NaN         NaN                10.0   \n",
       "8                                    NaN         NaN                 5.0   \n",
       "9                                    NaN         NaN                 8.0   \n",
       "\n",
       "  Neighborhoods - Analysis Boundaries  Zipcode  \\\n",
       "0                          Tenderloin  94102.0   \n",
       "1                          Tenderloin  94102.0   \n",
       "2                        Russian Hill  94109.0   \n",
       "3                            Nob Hill  94109.0   \n",
       "4                          Tenderloin  94102.0   \n",
       "5                        Potrero Hill  94107.0   \n",
       "6                        Inner Sunset  94122.0   \n",
       "7               Bayview Hunters Point  94124.0   \n",
       "8                   Lone Mountain/USF  94117.0   \n",
       "9                      Haight Ashbury  94117.0   \n",
       "\n",
       "                                    Location      Record ID  \n",
       "0  (37.785719256680785, -122.40852313194863)  1380611233945  \n",
       "1   (37.78733980600732, -122.41063199757738)  1420164406718  \n",
       "2    (37.7946573324287, -122.42232562979227)  1424856504716  \n",
       "3   (37.79595867909168, -122.41557405519474)  1443574295566  \n",
       "4   (37.78315261897309, -122.40950883997789)   144548169992  \n",
       "5   (37.75922331346539, -122.39170402628598)  1466911170855  \n",
       "6  (37.764145640138565, -122.46875112470363)  1468970403692  \n",
       "7   (37.73005099023611, -122.38784938916618)  1469035175050  \n",
       "8  (37.772393498502595, -122.45231466824669)  1469198253772  \n",
       "9    (37.7691724293766, -122.43734859051908)   146932394171  \n",
       "\n",
       "[10 rows x 43 columns]"
      ]
     },
     "execution_count": 3,
     "metadata": {},
     "output_type": "execute_result"
    }
   ],
   "source": [
    "# TODO: Your code here!\n",
    "sf_permits.head()\n",
    "sf_permits[0:10]"
   ]
  },
  {
   "cell_type": "markdown",
   "id": "0046830b",
   "metadata": {
    "papermill": {
     "duration": 0.004733,
     "end_time": "2025-07-24T11:11:16.543380",
     "exception": false,
     "start_time": "2025-07-24T11:11:16.538647",
     "status": "completed"
    },
    "tags": []
   },
   "source": [
    "Does the dataset have any missing values?  Once you have an answer, run the code cell below to get credit for your work."
   ]
  },
  {
   "cell_type": "code",
   "execution_count": 4,
   "id": "6c170932",
   "metadata": {
    "execution": {
     "iopub.execute_input": "2025-07-24T11:11:16.554429Z",
     "iopub.status.busy": "2025-07-24T11:11:16.554140Z",
     "iopub.status.idle": "2025-07-24T11:11:16.561776Z",
     "shell.execute_reply": "2025-07-24T11:11:16.560887Z"
    },
    "papermill": {
     "duration": 0.014828,
     "end_time": "2025-07-24T11:11:16.563196",
     "exception": false,
     "start_time": "2025-07-24T11:11:16.548368",
     "status": "completed"
    },
    "tags": []
   },
   "outputs": [
    {
     "data": {
      "application/javascript": [
       "parent.postMessage({\"jupyterEvent\": \"custom.exercise_interaction\", \"data\": {\"outcomeType\": 1, \"valueTowardsCompletion\": 0.16666666666666666, \"interactionType\": 1, \"questionType\": 4, \"questionId\": \"1_TakeFirstLook\", \"learnToolsVersion\": \"0.3.5\", \"failureMessage\": \"\", \"exceptionClass\": \"\", \"trace\": \"\"}}, \"*\")"
      ],
      "text/plain": [
       "<IPython.core.display.Javascript object>"
      ]
     },
     "metadata": {},
     "output_type": "display_data"
    },
    {
     "data": {
      "text/markdown": [
       "<span style=\"color:#33cc33\">Correct:</span> \n",
       "\n",
       "The first five rows of the data does show that several columns have missing values.  You can see this in the \"Street Number Suffix\", \"Proposed Construction Type\" and \"Site Permit\" columns, among others."
      ],
      "text/plain": [
       "Correct: \n",
       "\n",
       "The first five rows of the data does show that several columns have missing values.  You can see this in the \"Street Number Suffix\", \"Proposed Construction Type\" and \"Site Permit\" columns, among others."
      ]
     },
     "metadata": {},
     "output_type": "display_data"
    }
   ],
   "source": [
    "# Check your answer (Run this code cell to receive credit!)\n",
    "q1.check()"
   ]
  },
  {
   "cell_type": "code",
   "execution_count": 5,
   "id": "36df844c",
   "metadata": {
    "execution": {
     "iopub.execute_input": "2025-07-24T11:11:16.575607Z",
     "iopub.status.busy": "2025-07-24T11:11:16.575254Z",
     "iopub.status.idle": "2025-07-24T11:11:16.579517Z",
     "shell.execute_reply": "2025-07-24T11:11:16.578413Z"
    },
    "papermill": {
     "duration": 0.011947,
     "end_time": "2025-07-24T11:11:16.580985",
     "exception": false,
     "start_time": "2025-07-24T11:11:16.569038",
     "status": "completed"
    },
    "tags": []
   },
   "outputs": [],
   "source": [
    "# Line below will give you a hint\n",
    "#q1.hint()"
   ]
  },
  {
   "cell_type": "markdown",
   "id": "a11a0ed2",
   "metadata": {
    "papermill": {
     "duration": 0.004976,
     "end_time": "2025-07-24T11:11:16.591341",
     "exception": false,
     "start_time": "2025-07-24T11:11:16.586365",
     "status": "completed"
    },
    "tags": []
   },
   "source": [
    "# 2) How many missing data points do we have?\n",
    "\n",
    "What percentage of the values in the dataset are missing?  Your answer should be a number between 0 and 100.  (If 1/4 of the values in the dataset are missing, the answer is 25.)"
   ]
  },
  {
   "cell_type": "code",
   "execution_count": 6,
   "id": "0ff131f4",
   "metadata": {
    "execution": {
     "iopub.execute_input": "2025-07-24T11:11:16.603196Z",
     "iopub.status.busy": "2025-07-24T11:11:16.602866Z",
     "iopub.status.idle": "2025-07-24T11:11:16.874107Z",
     "shell.execute_reply": "2025-07-24T11:11:16.873267Z"
    },
    "papermill": {
     "duration": 0.279311,
     "end_time": "2025-07-24T11:11:16.875728",
     "exception": false,
     "start_time": "2025-07-24T11:11:16.596417",
     "status": "completed"
    },
    "tags": []
   },
   "outputs": [
    {
     "name": "stdout",
     "output_type": "stream",
     "text": [
      "8552700\n",
      "2245941\n",
      "26.26002315058403\n"
     ]
    },
    {
     "data": {
      "application/javascript": [
       "parent.postMessage({\"jupyterEvent\": \"custom.exercise_interaction\", \"data\": {\"outcomeType\": 1, \"valueTowardsCompletion\": 0.16666666666666666, \"interactionType\": 1, \"questionType\": 1, \"questionId\": \"2_PercentMissingValues\", \"learnToolsVersion\": \"0.3.5\", \"failureMessage\": \"\", \"exceptionClass\": \"\", \"trace\": \"\"}}, \"*\")"
      ],
      "text/plain": [
       "<IPython.core.display.Javascript object>"
      ]
     },
     "metadata": {},
     "output_type": "display_data"
    },
    {
     "data": {
      "text/markdown": [
       "<span style=\"color:#33cc33\">Correct</span>"
      ],
      "text/plain": [
       "Correct"
      ]
     },
     "metadata": {},
     "output_type": "display_data"
    }
   ],
   "source": [
    "# Get the total number of cells\n",
    "total_cells = np.prod(sf_permits.shape)\n",
    "print(total_cells)\n",
    "\n",
    "# get the number of missing data points per column\n",
    "missing_values_count = sf_permits.isnull().values.sum()\n",
    "print(missing_values_count)\n",
    "\n",
    "# TODO: Your code here!\n",
    "percent_missing = (missing_values_count / total_cells) * 100\n",
    "print(percent_missing)\n",
    "# Check your answer\n",
    "q2.check()"
   ]
  },
  {
   "cell_type": "code",
   "execution_count": 7,
   "id": "c6563a30",
   "metadata": {
    "execution": {
     "iopub.execute_input": "2025-07-24T11:11:16.888750Z",
     "iopub.status.busy": "2025-07-24T11:11:16.888475Z",
     "iopub.status.idle": "2025-07-24T11:11:16.897627Z",
     "shell.execute_reply": "2025-07-24T11:11:16.896918Z"
    },
    "papermill": {
     "duration": 0.017161,
     "end_time": "2025-07-24T11:11:16.898940",
     "exception": false,
     "start_time": "2025-07-24T11:11:16.881779",
     "status": "completed"
    },
    "tags": []
   },
   "outputs": [
    {
     "data": {
      "application/javascript": [
       "parent.postMessage({\"jupyterEvent\": \"custom.exercise_interaction\", \"data\": {\"interactionType\": 2, \"questionType\": 1, \"questionId\": \"2_PercentMissingValues\", \"learnToolsVersion\": \"0.3.5\", \"valueTowardsCompletion\": 0.0, \"failureMessage\": \"\", \"exceptionClass\": \"\", \"trace\": \"\", \"outcomeType\": 4}}, \"*\")"
      ],
      "text/plain": [
       "<IPython.core.display.Javascript object>"
      ]
     },
     "metadata": {},
     "output_type": "display_data"
    },
    {
     "data": {
      "text/markdown": [
       "<span style=\"color:#3366cc\">Hint:</span> You can begin by getting the number of missing entries in each column with `missing_values_count = sf_permits.isnull().sum()`."
      ],
      "text/plain": [
       "Hint: You can begin by getting the number of missing entries in each column with `missing_values_count = sf_permits.isnull().sum()`."
      ]
     },
     "metadata": {},
     "output_type": "display_data"
    },
    {
     "data": {
      "application/javascript": [
       "parent.postMessage({\"jupyterEvent\": \"custom.exercise_interaction\", \"data\": {\"interactionType\": 3, \"questionType\": 1, \"questionId\": \"2_PercentMissingValues\", \"learnToolsVersion\": \"0.3.5\", \"valueTowardsCompletion\": 0.0, \"failureMessage\": \"\", \"exceptionClass\": \"\", \"trace\": \"\", \"outcomeType\": 4}}, \"*\")"
      ],
      "text/plain": [
       "<IPython.core.display.Javascript object>"
      ]
     },
     "metadata": {},
     "output_type": "display_data"
    },
    {
     "data": {
      "text/markdown": [
       "<span style=\"color:#33cc99\">Solution:</span> \n",
       "```python\n",
       "# get the number of missing data points per column\n",
       "missing_values_count = sf_permits.isnull().sum()\n",
       "\n",
       "# how many total missing values do we have?\n",
       "total_cells = np.product(sf_permits.shape)\n",
       "total_missing = missing_values_count.sum()\n",
       "\n",
       "# percent of data that is missing\n",
       "percent_missing = (total_missing/total_cells) * 100\n",
       "\n",
       "```"
      ],
      "text/plain": [
       "Solution: \n",
       "```python\n",
       "# get the number of missing data points per column\n",
       "missing_values_count = sf_permits.isnull().sum()\n",
       "\n",
       "# how many total missing values do we have?\n",
       "total_cells = np.product(sf_permits.shape)\n",
       "total_missing = missing_values_count.sum()\n",
       "\n",
       "# percent of data that is missing\n",
       "percent_missing = (total_missing/total_cells) * 100\n",
       "\n",
       "```"
      ]
     },
     "metadata": {},
     "output_type": "display_data"
    }
   ],
   "source": [
    "# Lines below will give you a hint or solution code\n",
    "q2.hint()\n",
    "q2.solution()"
   ]
  },
  {
   "cell_type": "markdown",
   "id": "cae4ebc1",
   "metadata": {
    "papermill": {
     "duration": 0.005593,
     "end_time": "2025-07-24T11:11:16.910670",
     "exception": false,
     "start_time": "2025-07-24T11:11:16.905077",
     "status": "completed"
    },
    "tags": []
   },
   "source": [
    "# 3) Figure out why the data is missing\n",
    "\n",
    "Look at the columns **\"Street Number Suffix\"** and **\"Zipcode\"** from the [San Francisco Building Permits dataset](https://www.kaggle.com/aparnashastry/building-permit-applications-data). Both of these contain missing values. \n",
    "- Which, if either, are missing because they don't exist? \n",
    "- Which, if either, are missing because they weren't recorded?  \n",
    "\n",
    "Once you have an answer, run the code cell below."
   ]
  },
  {
   "cell_type": "code",
   "execution_count": 8,
   "id": "bbdfaf2c",
   "metadata": {
    "execution": {
     "iopub.execute_input": "2025-07-24T11:11:16.923374Z",
     "iopub.status.busy": "2025-07-24T11:11:16.923035Z",
     "iopub.status.idle": "2025-07-24T11:11:16.929706Z",
     "shell.execute_reply": "2025-07-24T11:11:16.928941Z"
    },
    "papermill": {
     "duration": 0.014536,
     "end_time": "2025-07-24T11:11:16.930944",
     "exception": false,
     "start_time": "2025-07-24T11:11:16.916408",
     "status": "completed"
    },
    "tags": []
   },
   "outputs": [
    {
     "data": {
      "application/javascript": [
       "parent.postMessage({\"jupyterEvent\": \"custom.exercise_interaction\", \"data\": {\"outcomeType\": 1, \"valueTowardsCompletion\": 0.16666666666666666, \"interactionType\": 1, \"questionType\": 4, \"questionId\": \"3_WhyDataMissing\", \"learnToolsVersion\": \"0.3.5\", \"failureMessage\": \"\", \"exceptionClass\": \"\", \"trace\": \"\"}}, \"*\")"
      ],
      "text/plain": [
       "<IPython.core.display.Javascript object>"
      ]
     },
     "metadata": {},
     "output_type": "display_data"
    },
    {
     "data": {
      "text/markdown": [
       "<span style=\"color:#33cc33\">Correct:</span> \n",
       "\n",
       "If a value in the \"Street Number Suffix\" column is missing, it is likely because it does not exist. If a value in the \"Zipcode\" column is missing, it was not recorded."
      ],
      "text/plain": [
       "Correct: \n",
       "\n",
       "If a value in the \"Street Number Suffix\" column is missing, it is likely because it does not exist. If a value in the \"Zipcode\" column is missing, it was not recorded."
      ]
     },
     "metadata": {},
     "output_type": "display_data"
    }
   ],
   "source": [
    "# Check your answer (Run this code cell to receive credit!)\n",
    "q3.check()"
   ]
  },
  {
   "cell_type": "code",
   "execution_count": 9,
   "id": "b8d75ba3",
   "metadata": {
    "execution": {
     "iopub.execute_input": "2025-07-24T11:11:16.944701Z",
     "iopub.status.busy": "2025-07-24T11:11:16.944016Z",
     "iopub.status.idle": "2025-07-24T11:11:16.947737Z",
     "shell.execute_reply": "2025-07-24T11:11:16.946938Z"
    },
    "papermill": {
     "duration": 0.011996,
     "end_time": "2025-07-24T11:11:16.949022",
     "exception": false,
     "start_time": "2025-07-24T11:11:16.937026",
     "status": "completed"
    },
    "tags": []
   },
   "outputs": [],
   "source": [
    "# Line below will give you a hint\n",
    "#q3.hint()"
   ]
  },
  {
   "cell_type": "markdown",
   "id": "06f91af4",
   "metadata": {
    "papermill": {
     "duration": 0.005913,
     "end_time": "2025-07-24T11:11:16.961176",
     "exception": false,
     "start_time": "2025-07-24T11:11:16.955263",
     "status": "completed"
    },
    "tags": []
   },
   "source": [
    "# 4) Drop missing values: rows\n",
    "\n",
    "If you removed all of the rows of `sf_permits` with missing values, how many rows are left?\n",
    "\n",
    "**Note**: Do not change the value of `sf_permits` when checking this.  "
   ]
  },
  {
   "cell_type": "code",
   "execution_count": 10,
   "id": "8c44595a",
   "metadata": {
    "execution": {
     "iopub.execute_input": "2025-07-24T11:11:16.974562Z",
     "iopub.status.busy": "2025-07-24T11:11:16.974194Z",
     "iopub.status.idle": "2025-07-24T11:11:17.238599Z",
     "shell.execute_reply": "2025-07-24T11:11:17.237777Z"
    },
    "papermill": {
     "duration": 0.273237,
     "end_time": "2025-07-24T11:11:17.240402",
     "exception": false,
     "start_time": "2025-07-24T11:11:16.967165",
     "status": "completed"
    },
    "tags": []
   },
   "outputs": [
    {
     "data": {
      "text/html": [
       "<div>\n",
       "<style scoped>\n",
       "    .dataframe tbody tr th:only-of-type {\n",
       "        vertical-align: middle;\n",
       "    }\n",
       "\n",
       "    .dataframe tbody tr th {\n",
       "        vertical-align: top;\n",
       "    }\n",
       "\n",
       "    .dataframe thead th {\n",
       "        text-align: right;\n",
       "    }\n",
       "</style>\n",
       "<table border=\"1\" class=\"dataframe\">\n",
       "  <thead>\n",
       "    <tr style=\"text-align: right;\">\n",
       "      <th></th>\n",
       "      <th>Permit Number</th>\n",
       "      <th>Permit Type</th>\n",
       "      <th>Permit Type Definition</th>\n",
       "      <th>Permit Creation Date</th>\n",
       "      <th>Block</th>\n",
       "      <th>Lot</th>\n",
       "      <th>Street Number</th>\n",
       "      <th>Street Number Suffix</th>\n",
       "      <th>Street Name</th>\n",
       "      <th>Street Suffix</th>\n",
       "      <th>...</th>\n",
       "      <th>Existing Construction Type</th>\n",
       "      <th>Existing Construction Type Description</th>\n",
       "      <th>Proposed Construction Type</th>\n",
       "      <th>Proposed Construction Type Description</th>\n",
       "      <th>Site Permit</th>\n",
       "      <th>Supervisor District</th>\n",
       "      <th>Neighborhoods - Analysis Boundaries</th>\n",
       "      <th>Zipcode</th>\n",
       "      <th>Location</th>\n",
       "      <th>Record ID</th>\n",
       "    </tr>\n",
       "  </thead>\n",
       "  <tbody>\n",
       "  </tbody>\n",
       "</table>\n",
       "<p>0 rows × 43 columns</p>\n",
       "</div>"
      ],
      "text/plain": [
       "Empty DataFrame\n",
       "Columns: [Permit Number, Permit Type, Permit Type Definition, Permit Creation Date, Block, Lot, Street Number, Street Number Suffix, Street Name, Street Suffix, Unit, Unit Suffix, Description, Current Status, Current Status Date, Filed Date, Issued Date, Completed Date, First Construction Document Date, Structural Notification, Number of Existing Stories, Number of Proposed Stories, Voluntary Soft-Story Retrofit, Fire Only Permit, Permit Expiration Date, Estimated Cost, Revised Cost, Existing Use, Existing Units, Proposed Use, Proposed Units, Plansets, TIDF Compliance, Existing Construction Type, Existing Construction Type Description, Proposed Construction Type, Proposed Construction Type Description, Site Permit, Supervisor District, Neighborhoods - Analysis Boundaries, Zipcode, Location, Record ID]\n",
       "Index: []\n",
       "\n",
       "[0 rows x 43 columns]"
      ]
     },
     "execution_count": 10,
     "metadata": {},
     "output_type": "execute_result"
    }
   ],
   "source": [
    "# TODO: Your code here!\n",
    "sf_permits.dropna()"
   ]
  },
  {
   "cell_type": "markdown",
   "id": "787624d0",
   "metadata": {
    "papermill": {
     "duration": 0.00632,
     "end_time": "2025-07-24T11:11:17.253868",
     "exception": false,
     "start_time": "2025-07-24T11:11:17.247548",
     "status": "completed"
    },
    "tags": []
   },
   "source": [
    "Once you have an answer, run the code cell below."
   ]
  },
  {
   "cell_type": "code",
   "execution_count": 11,
   "id": "26b04526",
   "metadata": {
    "execution": {
     "iopub.execute_input": "2025-07-24T11:11:17.269263Z",
     "iopub.status.busy": "2025-07-24T11:11:17.268973Z",
     "iopub.status.idle": "2025-07-24T11:11:17.276424Z",
     "shell.execute_reply": "2025-07-24T11:11:17.275499Z"
    },
    "papermill": {
     "duration": 0.017535,
     "end_time": "2025-07-24T11:11:17.278003",
     "exception": false,
     "start_time": "2025-07-24T11:11:17.260468",
     "status": "completed"
    },
    "tags": []
   },
   "outputs": [
    {
     "data": {
      "application/javascript": [
       "parent.postMessage({\"jupyterEvent\": \"custom.exercise_interaction\", \"data\": {\"outcomeType\": 1, \"valueTowardsCompletion\": 0.16666666666666666, \"interactionType\": 1, \"questionType\": 4, \"questionId\": \"4_DropMissingRows\", \"learnToolsVersion\": \"0.3.5\", \"failureMessage\": \"\", \"exceptionClass\": \"\", \"trace\": \"\"}}, \"*\")"
      ],
      "text/plain": [
       "<IPython.core.display.Javascript object>"
      ]
     },
     "metadata": {},
     "output_type": "display_data"
    },
    {
     "data": {
      "text/markdown": [
       "<span style=\"color:#33cc33\">Correct:</span> \n",
       "\n",
       "There are no rows remaining in the dataset!"
      ],
      "text/plain": [
       "Correct: \n",
       "\n",
       "There are no rows remaining in the dataset!"
      ]
     },
     "metadata": {},
     "output_type": "display_data"
    }
   ],
   "source": [
    "# Check your answer (Run this code cell to receive credit!)\n",
    "q4.check()"
   ]
  },
  {
   "cell_type": "code",
   "execution_count": 12,
   "id": "42eeeb98",
   "metadata": {
    "execution": {
     "iopub.execute_input": "2025-07-24T11:11:17.292606Z",
     "iopub.status.busy": "2025-07-24T11:11:17.292255Z",
     "iopub.status.idle": "2025-07-24T11:11:17.296408Z",
     "shell.execute_reply": "2025-07-24T11:11:17.295532Z"
    },
    "papermill": {
     "duration": 0.013111,
     "end_time": "2025-07-24T11:11:17.297947",
     "exception": false,
     "start_time": "2025-07-24T11:11:17.284836",
     "status": "completed"
    },
    "tags": []
   },
   "outputs": [],
   "source": [
    "# Line below will give you a hint\n",
    "#q4.hint()"
   ]
  },
  {
   "cell_type": "markdown",
   "id": "73eb650b",
   "metadata": {
    "papermill": {
     "duration": 0.006223,
     "end_time": "2025-07-24T11:11:17.311120",
     "exception": false,
     "start_time": "2025-07-24T11:11:17.304897",
     "status": "completed"
    },
    "tags": []
   },
   "source": [
    "# 5) Drop missing values: columns\n",
    "\n",
    "Now try removing all the columns with empty values.  \n",
    "- Create a new DataFrame called `sf_permits_with_na_dropped` that has all of the columns with empty values removed.  \n",
    "- How many columns were removed from the original `sf_permits` DataFrame? Use this number to set the value of the `dropped_columns` variable below."
   ]
  },
  {
   "cell_type": "code",
   "execution_count": 13,
   "id": "f2dba495",
   "metadata": {
    "execution": {
     "iopub.execute_input": "2025-07-24T11:11:17.326195Z",
     "iopub.status.busy": "2025-07-24T11:11:17.325858Z",
     "iopub.status.idle": "2025-07-24T11:11:17.604620Z",
     "shell.execute_reply": "2025-07-24T11:11:17.603377Z"
    },
    "papermill": {
     "duration": 0.288144,
     "end_time": "2025-07-24T11:11:17.606200",
     "exception": false,
     "start_time": "2025-07-24T11:11:17.318056",
     "status": "completed"
    },
    "tags": []
   },
   "outputs": [
    {
     "name": "stdout",
     "output_type": "stream",
     "text": [
      "31\n"
     ]
    },
    {
     "data": {
      "application/javascript": [
       "parent.postMessage({\"jupyterEvent\": \"custom.exercise_interaction\", \"data\": {\"outcomeType\": 1, \"valueTowardsCompletion\": 0.16666666666666666, \"interactionType\": 1, \"questionType\": 1, \"questionId\": \"5_DropMissingCols\", \"learnToolsVersion\": \"0.3.5\", \"failureMessage\": \"\", \"exceptionClass\": \"\", \"trace\": \"\"}}, \"*\")"
      ],
      "text/plain": [
       "<IPython.core.display.Javascript object>"
      ]
     },
     "metadata": {},
     "output_type": "display_data"
    },
    {
     "data": {
      "text/markdown": [
       "<span style=\"color:#33cc33\">Correct</span>"
      ],
      "text/plain": [
       "Correct"
      ]
     },
     "metadata": {},
     "output_type": "display_data"
    }
   ],
   "source": [
    "# TODO: Your code here\n",
    "sf_permits_with_na_dropped = sf_permits.dropna(axis=1)\n",
    "\n",
    "dropped_columns = sf_permits.shape[1] - sf_permits_with_na_dropped.shape[1]\n",
    "print(sf_permits.shape[1] - sf_permits_with_na_dropped.shape[1])\n",
    "# Check your answer\n",
    "q5.check()"
   ]
  },
  {
   "cell_type": "code",
   "execution_count": 14,
   "id": "180c0bde",
   "metadata": {
    "execution": {
     "iopub.execute_input": "2025-07-24T11:11:17.621485Z",
     "iopub.status.busy": "2025-07-24T11:11:17.621122Z",
     "iopub.status.idle": "2025-07-24T11:11:17.628763Z",
     "shell.execute_reply": "2025-07-24T11:11:17.627396Z"
    },
    "papermill": {
     "duration": 0.016876,
     "end_time": "2025-07-24T11:11:17.630394",
     "exception": false,
     "start_time": "2025-07-24T11:11:17.613518",
     "status": "completed"
    },
    "tags": []
   },
   "outputs": [
    {
     "data": {
      "application/javascript": [
       "parent.postMessage({\"jupyterEvent\": \"custom.exercise_interaction\", \"data\": {\"interactionType\": 2, \"questionType\": 1, \"questionId\": \"5_DropMissingCols\", \"learnToolsVersion\": \"0.3.5\", \"valueTowardsCompletion\": 0.0, \"failureMessage\": \"\", \"exceptionClass\": \"\", \"trace\": \"\", \"outcomeType\": 4}}, \"*\")"
      ],
      "text/plain": [
       "<IPython.core.display.Javascript object>"
      ]
     },
     "metadata": {},
     "output_type": "display_data"
    },
    {
     "data": {
      "text/markdown": [
       "<span style=\"color:#3366cc\">Hint:</span> You can begin by getting the dropping all columns with missing values with `sf_permits.dropna(axis=1)`."
      ],
      "text/plain": [
       "Hint: You can begin by getting the dropping all columns with missing values with `sf_permits.dropna(axis=1)`."
      ]
     },
     "metadata": {},
     "output_type": "display_data"
    }
   ],
   "source": [
    "# Lines below will give you a hint or solution code\n",
    "q5.hint()\n",
    "#q5.solution()"
   ]
  },
  {
   "cell_type": "markdown",
   "id": "70f32fea",
   "metadata": {
    "papermill": {
     "duration": 0.006926,
     "end_time": "2025-07-24T11:11:17.645073",
     "exception": false,
     "start_time": "2025-07-24T11:11:17.638147",
     "status": "completed"
    },
    "tags": []
   },
   "source": [
    "# 6) Fill in missing values automatically\n",
    "\n",
    "Try replacing all the NaN's in the `sf_permits` data with the one that comes directly after it and then replacing any remaining NaN's with 0.  Set the result to a new DataFrame `sf_permits_with_na_imputed`."
   ]
  },
  {
   "cell_type": "code",
   "execution_count": 15,
   "id": "e49556fd",
   "metadata": {
    "execution": {
     "iopub.execute_input": "2025-07-24T11:11:17.660345Z",
     "iopub.status.busy": "2025-07-24T11:11:17.659908Z",
     "iopub.status.idle": "2025-07-24T11:11:19.889198Z",
     "shell.execute_reply": "2025-07-24T11:11:19.888024Z"
    },
    "papermill": {
     "duration": 2.238493,
     "end_time": "2025-07-24T11:11:19.890637",
     "exception": false,
     "start_time": "2025-07-24T11:11:17.652144",
     "status": "completed"
    },
    "tags": []
   },
   "outputs": [
    {
     "name": "stderr",
     "output_type": "stream",
     "text": [
      "/tmp/ipykernel_13/194510580.py:2: FutureWarning: DataFrame.fillna with 'method' is deprecated and will raise in a future version. Use obj.ffill() or obj.bfill() instead.\n",
      "  sf_permits_with_na_imputed = sf_permits.fillna(method=\"bfill\").fillna(0)\n"
     ]
    },
    {
     "name": "stdout",
     "output_type": "stream",
     "text": [
      "       Permit Number  Permit Type            Permit Type Definition  \\\n",
      "0       201505065519            4                      sign - erect   \n",
      "1       201604195146            4                      sign - erect   \n",
      "2       201605278609            3  additions alterations or repairs   \n",
      "3       201611072166            8            otc alterations permit   \n",
      "4       201611283529            6                       demolitions   \n",
      "...              ...          ...                               ...   \n",
      "198895       M862628            8            otc alterations permit   \n",
      "198896  201712055595            8            otc alterations permit   \n",
      "198897       M863507            8            otc alterations permit   \n",
      "198898       M863747            8            otc alterations permit   \n",
      "198899       M864287            8            otc alterations permit   \n",
      "\n",
      "       Permit Creation Date Block   Lot  Street Number Street Number Suffix  \\\n",
      "0                05/06/2015  0326   023            140                    A   \n",
      "1                04/19/2016  0306   007            440                    A   \n",
      "2                05/27/2016  0595   203           1647                    A   \n",
      "3                11/07/2016  0156   011           1230                    A   \n",
      "4                11/28/2016  0342   001            950                    A   \n",
      "...                     ...   ...   ...            ...                  ...   \n",
      "198895           12/05/2017  0113  017A           1228                    0   \n",
      "198896           12/05/2017  0271   014            580                    0   \n",
      "198897           12/06/2017  4318   019           1568                    0   \n",
      "198898           12/06/2017  0298   029            795                    0   \n",
      "198899           12/07/2017  0160   006            838                    0   \n",
      "\n",
      "       Street Name Street Suffix  ...  Existing Construction Type  \\\n",
      "0            Ellis            St  ...                         3.0   \n",
      "1            Geary            St  ...                         3.0   \n",
      "2          Pacific            Av  ...                         1.0   \n",
      "3          Pacific            Av  ...                         5.0   \n",
      "4           Market            St  ...                         3.0   \n",
      "...            ...           ...  ...                         ...   \n",
      "198895  Montgomery            St  ...                         5.0   \n",
      "198896        Bush            St  ...                         5.0   \n",
      "198897     Indiana            St  ...                         0.0   \n",
      "198898      Sutter            St  ...                         0.0   \n",
      "198899     Pacific            Av  ...                         0.0   \n",
      "\n",
      "       Existing Construction Type Description Proposed Construction Type  \\\n",
      "0                               constr type 3                        1.0   \n",
      "1                               constr type 3                        1.0   \n",
      "2                               constr type 1                        1.0   \n",
      "3                              wood frame (5)                        5.0   \n",
      "4                               constr type 3                        1.0   \n",
      "...                                       ...                        ...   \n",
      "198895                         wood frame (5)                        5.0   \n",
      "198896                         wood frame (5)                        5.0   \n",
      "198897                                      0                        0.0   \n",
      "198898                                      0                        0.0   \n",
      "198899                                      0                        0.0   \n",
      "\n",
      "       Proposed Construction Type Description Site Permit Supervisor District  \\\n",
      "0                               constr type 1           Y                 3.0   \n",
      "1                               constr type 1           Y                 3.0   \n",
      "2                               constr type 1           Y                 3.0   \n",
      "3                              wood frame (5)           Y                 3.0   \n",
      "4                               constr type 1           Y                 6.0   \n",
      "...                                       ...         ...                 ...   \n",
      "198895                         wood frame (5)           0                 0.0   \n",
      "198896                         wood frame (5)           0                 0.0   \n",
      "198897                                      0           0                 0.0   \n",
      "198898                                      0           0                 0.0   \n",
      "198899                                      0           0                 0.0   \n",
      "\n",
      "       Neighborhoods - Analysis Boundaries  Zipcode  \\\n",
      "0                               Tenderloin  94102.0   \n",
      "1                               Tenderloin  94102.0   \n",
      "2                             Russian Hill  94109.0   \n",
      "3                                 Nob Hill  94109.0   \n",
      "4                               Tenderloin  94102.0   \n",
      "...                                    ...      ...   \n",
      "198895                                   0      0.0   \n",
      "198896                                   0      0.0   \n",
      "198897                                   0      0.0   \n",
      "198898                                   0      0.0   \n",
      "198899                                   0      0.0   \n",
      "\n",
      "                                         Location      Record ID  \n",
      "0       (37.785719256680785, -122.40852313194863)  1380611233945  \n",
      "1        (37.78733980600732, -122.41063199757738)  1420164406718  \n",
      "2         (37.7946573324287, -122.42232562979227)  1424856504716  \n",
      "3        (37.79595867909168, -122.41557405519474)  1443574295566  \n",
      "4        (37.78315261897309, -122.40950883997789)   144548169992  \n",
      "...                                           ...            ...  \n",
      "198895                                          0  1489337276729  \n",
      "198896                                          0  1489462354993  \n",
      "198897                                          0  1489539379952  \n",
      "198898                                          0  1489608233656  \n",
      "198899                                          0  1489796283803  \n",
      "\n",
      "[198900 rows x 43 columns]\n"
     ]
    },
    {
     "data": {
      "application/javascript": [
       "parent.postMessage({\"jupyterEvent\": \"custom.exercise_interaction\", \"data\": {\"outcomeType\": 1, \"valueTowardsCompletion\": 0.16666666666666666, \"interactionType\": 1, \"questionType\": 1, \"questionId\": \"6_ImputeAutomatically\", \"learnToolsVersion\": \"0.3.5\", \"failureMessage\": \"\", \"exceptionClass\": \"\", \"trace\": \"\"}}, \"*\")"
      ],
      "text/plain": [
       "<IPython.core.display.Javascript object>"
      ]
     },
     "metadata": {},
     "output_type": "display_data"
    },
    {
     "data": {
      "text/markdown": [
       "<span style=\"color:#33cc33\">Correct</span>"
      ],
      "text/plain": [
       "Correct"
      ]
     },
     "metadata": {},
     "output_type": "display_data"
    }
   ],
   "source": [
    "# TODO: Your code here\n",
    "sf_permits_with_na_imputed = sf_permits.fillna(method=\"bfill\").fillna(0)\n",
    "print(sf_permits_with_na_imputed)\n",
    "# Check your answer\n",
    "q6.check()"
   ]
  },
  {
   "cell_type": "code",
   "execution_count": 16,
   "id": "83a32918",
   "metadata": {
    "execution": {
     "iopub.execute_input": "2025-07-24T11:11:19.908102Z",
     "iopub.status.busy": "2025-07-24T11:11:19.907801Z",
     "iopub.status.idle": "2025-07-24T11:11:19.914886Z",
     "shell.execute_reply": "2025-07-24T11:11:19.913838Z"
    },
    "papermill": {
     "duration": 0.017992,
     "end_time": "2025-07-24T11:11:19.916493",
     "exception": false,
     "start_time": "2025-07-24T11:11:19.898501",
     "status": "completed"
    },
    "tags": []
   },
   "outputs": [
    {
     "data": {
      "application/javascript": [
       "parent.postMessage({\"jupyterEvent\": \"custom.exercise_interaction\", \"data\": {\"interactionType\": 2, \"questionType\": 1, \"questionId\": \"6_ImputeAutomatically\", \"learnToolsVersion\": \"0.3.5\", \"valueTowardsCompletion\": 0.0, \"failureMessage\": \"\", \"exceptionClass\": \"\", \"trace\": \"\", \"outcomeType\": 4}}, \"*\")"
      ],
      "text/plain": [
       "<IPython.core.display.Javascript object>"
      ]
     },
     "metadata": {},
     "output_type": "display_data"
    },
    {
     "data": {
      "text/markdown": [
       "<span style=\"color:#3366cc\">Hint:</span> Use the `.fillna()` method twice."
      ],
      "text/plain": [
       "Hint: Use the `.fillna()` method twice."
      ]
     },
     "metadata": {},
     "output_type": "display_data"
    }
   ],
   "source": [
    "# Lines below will give you a hint or solution code\n",
    "q6.hint()\n",
    "#q6.solution()"
   ]
  },
  {
   "cell_type": "markdown",
   "id": "1d1a3d89",
   "metadata": {
    "papermill": {
     "duration": 0.007621,
     "end_time": "2025-07-24T11:11:19.932394",
     "exception": false,
     "start_time": "2025-07-24T11:11:19.924773",
     "status": "completed"
    },
    "tags": []
   },
   "source": [
    "# More practice\n",
    "\n",
    "If you're looking for more practice handling missing values:\n",
    "\n",
    "* Check out [this noteboook](https://www.kaggle.com/alexisbcook/missing-values) on handling missing values using scikit-learn's imputer. \n",
    "* Look back at the \"Zipcode\" column in the `sf_permits` dataset, which has some missing values. How would you go about figuring out what the actual zipcode of each address should be? (You might try using another dataset. You can search for datasets about San Fransisco on the [Datasets listing](https://www.kaggle.com/datasets).) \n",
    "\n",
    "# Keep going\n",
    "\n",
    "In the next lesson, learn how to [**apply scaling and normalization**](https://www.kaggle.com/alexisbcook/scaling-and-normalization) to transform your data."
   ]
  },
  {
   "cell_type": "markdown",
   "id": "8b33c7da",
   "metadata": {
    "papermill": {
     "duration": 0.006958,
     "end_time": "2025-07-24T11:11:19.946620",
     "exception": false,
     "start_time": "2025-07-24T11:11:19.939662",
     "status": "completed"
    },
    "tags": []
   },
   "source": [
    "---\n",
    "\n",
    "\n",
    "\n",
    "\n",
    "*Have questions or comments? Visit the [course discussion forum](https://www.kaggle.com/learn/data-cleaning/discussion) to chat with other learners.*"
   ]
  }
 ],
 "metadata": {
  "kaggle": {
   "accelerator": "none",
   "dataSources": [
    {
     "datasetId": 16432,
     "sourceId": 21688,
     "sourceType": "datasetVersion"
    }
   ],
   "isGpuEnabled": false,
   "isInternetEnabled": false,
   "language": "python",
   "sourceType": "notebook"
  },
  "kernelspec": {
   "display_name": "Python 3",
   "language": "python",
   "name": "python3"
  },
  "language_info": {
   "codemirror_mode": {
    "name": "ipython",
    "version": 3
   },
   "file_extension": ".py",
   "mimetype": "text/x-python",
   "name": "python",
   "nbconvert_exporter": "python",
   "pygments_lexer": "ipython3",
   "version": "3.11.13"
  },
  "papermill": {
   "default_parameters": {},
   "duration": 18.984573,
   "end_time": "2025-07-24T11:11:20.574769",
   "environment_variables": {},
   "exception": null,
   "input_path": "__notebook__.ipynb",
   "output_path": "__notebook__.ipynb",
   "parameters": {},
   "start_time": "2025-07-24T11:11:01.590196",
   "version": "2.6.0"
  }
 },
 "nbformat": 4,
 "nbformat_minor": 5
}
